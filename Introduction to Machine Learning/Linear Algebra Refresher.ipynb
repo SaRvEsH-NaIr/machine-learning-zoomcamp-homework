{
 "cells": [
  {
   "cell_type": "markdown",
   "id": "2b0ff1be",
   "metadata": {},
   "source": [
    "## Introduction to Linear Algebra"
   ]
  },
  {
   "cell_type": "code",
   "execution_count": 1,
   "id": "ef1f8959",
   "metadata": {},
   "outputs": [],
   "source": [
    "import numpy as np"
   ]
  },
  {
   "cell_type": "markdown",
   "id": "42895fac",
   "metadata": {},
   "source": [
    "***Multiplication***\n",
    "---\n",
    "---"
   ]
  },
  {
   "cell_type": "markdown",
   "id": "1afc9684",
   "metadata": {},
   "source": [
    "***Vector Vector Multiplication***"
   ]
  },
  {
   "cell_type": "code",
   "execution_count": null,
   "id": "ea6bb910",
   "metadata": {},
   "outputs": [],
   "source": [
    "def vectior_vector_multiplication(v1, v2):\n",
    "    \n",
    "    # Vectors must be of the same length\n",
    "    assert v1.shape == v2.shape\n",
    "    \n",
    "    n = v1.shape[0]\n",
    "    \n",
    "    result = 0.0\n",
    "    \n",
    "    for i in range(n):\n",
    "        result = result + v1[i] * v2[i]\n",
    "        \n",
    "    return result"
   ]
  },
  {
   "cell_type": "code",
   "execution_count": 13,
   "id": "c862df93",
   "metadata": {},
   "outputs": [
    {
     "data": {
      "text/plain": [
       "(3, 3)"
      ]
     },
     "execution_count": 13,
     "metadata": {},
     "output_type": "execute_result"
    }
   ],
   "source": [
    "u = np.array([1, 2, 3])\n",
    "v = np.array([4, 5, 6,])\n",
    "\n",
    "u.shape[0], v.shape[0]"
   ]
  },
  {
   "cell_type": "code",
   "execution_count": 14,
   "id": "ba18c210",
   "metadata": {},
   "outputs": [
    {
     "data": {
      "text/plain": [
       "np.float64(32.0)"
      ]
     },
     "execution_count": 14,
     "metadata": {},
     "output_type": "execute_result"
    }
   ],
   "source": [
    "vectior_vector_multiplication(u, v)"
   ]
  },
  {
   "cell_type": "code",
   "execution_count": null,
   "id": "046a4fa7",
   "metadata": {},
   "outputs": [
    {
     "data": {
      "text/plain": [
       "np.int64(32)"
      ]
     },
     "execution_count": 9,
     "metadata": {},
     "output_type": "execute_result"
    }
   ],
   "source": [
    "# This numpy function does the same thing\n",
    "np.dot(u, v)"
   ]
  },
  {
   "cell_type": "markdown",
   "id": "574a4121",
   "metadata": {},
   "source": [
    "***Matrix-Vectro Multiplication***"
   ]
  },
  {
   "cell_type": "code",
   "execution_count": 33,
   "id": "9bb212c9",
   "metadata": {},
   "outputs": [
    {
     "data": {
      "text/plain": [
       "((3, 4), (3,))"
      ]
     },
     "execution_count": 33,
     "metadata": {},
     "output_type": "execute_result"
    }
   ],
   "source": [
    "# Matrix Vecotor Multiplication\n",
    "u = np.array([[2,4,5,6], \n",
    "              [1,2,1,2], \n",
    "              [3,1,2,1]])\n",
    "\n",
    "v = np.array([4, 5, 6,])\n",
    "\n",
    "u.shape, v.shape"
   ]
  },
  {
   "cell_type": "code",
   "execution_count": 31,
   "id": "d39d0b00",
   "metadata": {},
   "outputs": [
    {
     "data": {
      "text/plain": [
       "array([[34],\n",
       "       [52],\n",
       "       [70]])"
      ]
     },
     "execution_count": 31,
     "metadata": {},
     "output_type": "execute_result"
    }
   ],
   "source": [
    "np.dot(u, v)"
   ]
  },
  {
   "cell_type": "markdown",
   "id": "2d2b2a16",
   "metadata": {},
   "source": [
    "***Matrix Matrix Multiplication***"
   ]
  },
  {
   "cell_type": "code",
   "execution_count": null,
   "id": "017312ca",
   "metadata": {},
   "outputs": [
    {
     "data": {
      "text/plain": [
       "((3, 4), (4, 3))"
      ]
     },
     "execution_count": 38,
     "metadata": {},
     "output_type": "execute_result"
    }
   ],
   "source": [
    "# Matrix-Matrix Multiplication\n",
    "u = np.array([[2,4,5,6], a\n",
    "              [1,2,1,2], \n",
    "              [3,1,2,1]])\n",
    "\n",
    "v = np.array([[1,2,3],\n",
    "              [4,5,6],\n",
    "              [7,8,9],\n",
    "              [10,11,12]])\n",
    "\n",
    "u.shape, v.shape\n"
   ]
  },
  {
   "cell_type": "code",
   "execution_count": 39,
   "id": "cc2b7c0a",
   "metadata": {},
   "outputs": [
    {
     "data": {
      "text/plain": [
       "array([[113, 130, 147],\n",
       "       [ 36,  42,  48],\n",
       "       [ 31,  38,  45]])"
      ]
     },
     "execution_count": 39,
     "metadata": {},
     "output_type": "execute_result"
    }
   ],
   "source": [
    "np.dot(u, v)"
   ]
  },
  {
   "cell_type": "markdown",
   "id": "8bd9e5cf",
   "metadata": {},
   "source": [
    "***Identity Matrix***"
   ]
  },
  {
   "cell_type": "code",
   "execution_count": 41,
   "id": "1189807b",
   "metadata": {},
   "outputs": [],
   "source": [
    "i = np.eye(3)"
   ]
  },
  {
   "cell_type": "code",
   "execution_count": 42,
   "id": "c43156b6",
   "metadata": {},
   "outputs": [
    {
     "data": {
      "text/plain": [
       "array([[ 1.,  2.,  3.],\n",
       "       [ 4.,  5.,  6.],\n",
       "       [ 7.,  8.,  9.],\n",
       "       [10., 11., 12.]])"
      ]
     },
     "execution_count": 42,
     "metadata": {},
     "output_type": "execute_result"
    }
   ],
   "source": [
    "np.dot(v, i)"
   ]
  },
  {
   "cell_type": "markdown",
   "id": "93d3db74",
   "metadata": {},
   "source": [
    "***Inverse of Matrix***"
   ]
  },
  {
   "cell_type": "code",
   "execution_count": 54,
   "id": "319bcf6b",
   "metadata": {},
   "outputs": [
    {
     "data": {
      "text/plain": [
       "array([[ 1,  2,  3],\n",
       "       [ 4,  5,  6],\n",
       "       [ 7,  8, 10]])"
      ]
     },
     "execution_count": 54,
     "metadata": {},
     "output_type": "execute_result"
    }
   ],
   "source": [
    "v = np.array([[1,2,3],\n",
    "              [4,5,6],\n",
    "              [7,8,10],\n",
    "              [10,11,12]])\n",
    "\n",
    "v[[0, 1, 2]]"
   ]
  },
  {
   "cell_type": "code",
   "execution_count": 55,
   "id": "edccd8c2",
   "metadata": {},
   "outputs": [
    {
     "data": {
      "text/plain": [
       "array([[-0.66666667, -1.33333333,  1.        ],\n",
       "       [-0.66666667,  3.66666667, -2.        ],\n",
       "       [ 1.        , -2.        ,  1.        ]])"
      ]
     },
     "execution_count": 55,
     "metadata": {},
     "output_type": "execute_result"
    }
   ],
   "source": [
    "vs = v[[0, 1, 2]]\n",
    "\n",
    "vs_inv = np.linalg.inv(vs)\n",
    "\n",
    "vs_inv"
   ]
  },
  {
   "cell_type": "code",
   "execution_count": null,
   "id": "dcf9b198",
   "metadata": {},
   "outputs": [
    {
     "data": {
      "text/plain": [
       "array([[ 1.00000000e+00,  0.00000000e+00,  2.22044605e-16],\n",
       "       [ 1.33226763e-15,  1.00000000e+00,  8.88178420e-16],\n",
       "       [-7.77156117e-16,  0.00000000e+00,  1.00000000e+00]])"
      ]
     },
     "execution_count": 57,
     "metadata": {},
     "output_type": "execute_result"
    }
   ],
   "source": [
    "np.dot(vs_inv,vs) # The values when rounded becomes zero and is regularly seen in identity matrix"
   ]
  }
 ],
 "metadata": {
  "kernelspec": {
   "display_name": "Python 3",
   "language": "python",
   "name": "python3"
  },
  "language_info": {
   "codemirror_mode": {
    "name": "ipython",
    "version": 3
   },
   "file_extension": ".py",
   "mimetype": "text/x-python",
   "name": "python",
   "nbconvert_exporter": "python",
   "pygments_lexer": "ipython3",
   "version": "3.12.1"
  }
 },
 "nbformat": 4,
 "nbformat_minor": 5
}
